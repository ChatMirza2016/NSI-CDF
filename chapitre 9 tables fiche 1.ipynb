{
 "cells": [
  {
   "cell_type": "markdown",
   "metadata": {},
   "source": [
    " <center><h1>Chapitre 9 Les tables Séance n°1 : Importation des données CSV </h1></center>"
   ]
  },
  {
   "cell_type": "markdown",
   "metadata": {},
   "source": [
    "On peut définir une **table** comme une liste dont les éléments sont des listes, des tuples, ou nous le verrons plus tard, des dictionnaires. \n",
    "Trois exemples de tables, ci-dessous : "
   ]
  },
  {
   "cell_type": "code",
   "execution_count": 1,
   "metadata": {},
   "outputs": [],
   "source": [
    "tableau1 = [ [1,2,3], [4,5,6]]\n",
    "tableau_departements = [ (\"Ain\", 1), (\"Aisne\", 2), (\"Allier\", 3)]\n",
    "\n",
    "ma_table = [{'prenom':'Antoine', 'nom':'Dupont', 'Anglais':\"10\", 'NSI':\"10\", 'Maths':\"18\"},\n",
    "            {'prenom':'Louise',  'nom':'Dupont', 'Anglais':\"17\", 'NSI':\"18\", 'Maths':\"14\"},\n",
    "            {'prenom':'Louise',  'nom':'Ampere', 'Anglais':\"17\", 'NSI':\"18\", 'Maths':\"14\"},\n",
    "            {'prenom':'Pierre',  'nom':'Zebro', 'Anglais':\"8\",   'NSI':\"4\" , 'Maths':\"20\"}]\n",
    "\n",
    "\n"
   ]
  },
  {
   "cell_type": "code",
   "execution_count": 2,
   "metadata": {},
   "outputs": [],
   "source": [
    "ma_table = [{'prenom':'Antoine', 'nom':'Dupond', 'Anglais':10, 'NSI':'10', 'Maths':18},\n",
    "            {'prenom':'Louise',  'nom':'Dupont', 'Anglais':17, 'NSI':'18', 'Maths':14},\n",
    "            {'prenom':'Louise',  'nom':'Ampere', 'Anglais':16, 'NSI':'18', 'Maths':14},\n",
    "            {'prenom':'Pierre',  'nom':'Zebro',  'Anglais':8,  'NSI':'4' , 'Maths':20}]\n",
    "\n",
    "\n",
    "def f(matiere):\n",
    "    \"\"\"\n",
    "    cette fonction détermine l'élève qui a la note la plus élevée \n",
    "    dans la matière passée en paramètre\n",
    "    \"\"\"\n",
    "    nom = \"\"\n",
    "    maxi = 0\n",
    "\n",
    "    for eleve in ma_table:\n",
    "        if eleve[matiere] > maxi:\n",
    "            maxi = eleve[matiere]\n",
    "            nom = eleve['nom']\n",
    "    return (nom, maxi)\n",
    "\n"
   ]
  },
  {
   "cell_type": "code",
   "execution_count": 3,
   "metadata": {
    "scrolled": true
   },
   "outputs": [
    {
     "data": {
      "text/plain": [
       "('Dupont', 17)"
      ]
     },
     "execution_count": 3,
     "metadata": {},
     "output_type": "execute_result"
    }
   ],
   "source": [
    "f('Anglais')"
   ]
  },
  {
   "cell_type": "markdown",
   "metadata": {},
   "source": [
    "L'augmentation rapide des capacités de stockage et des vitesses de calcul des ordinateurs a permis de décupler la puissance de stockage et de traitements des données. Cette évolution a entrainé une nouvelle branche de l'informatique : la science des données (data science).\n",
    "\n",
    "Comme vous avez vu en SNT en Seconde, les données très souvent représentées sous forme de tableau. Et plus généralement en écrivant ce tableau de manière verticale dans une **table** avec :\n",
    " - la ligne étant un **enregistrement**\n",
    " - la colonne **un champ**\n",
    " \n",
    " Vous retrouverez l'année prochaine ce type de structure dans les modèles relationnels, où les données sont stockées dans plusieurs tables, que l'on peut exploiter grâce au langage SQL. "
   ]
  },
  {
   "cell_type": "markdown",
   "metadata": {},
   "source": [
    "Nous allons illustrer ce chapitre à partir de l'exemple de la population du Finistère par commune.\n",
    "\n",
    "Toutes ces données sont disponibles sur Internet. "
   ]
  },
  {
   "cell_type": "markdown",
   "metadata": {},
   "source": [
    "Sur Internet, on trouve des sites qui mettent à disposition des données. Les sites peuvent les proposer au téléchargement sous différents formats :\n",
    " - [CSV (Comma-separated values)](https://fr.wikipedia.org/wiki/Comma-separated_values) : est un format texte ouvert représentant des données tabulaires sous forme de valeurs séparées par des virgules.\n",
    " - [JSON (JavaScript Object Notation)](https://fr.wikipedia.org/wiki/JavaScript_Object_Notation) : est un format de données textuelles dérivé de la notation des objets du langage JavaScript.\n",
    " - [XML (Extensible Markup Language)](https://fr.wikipedia.org/wiki/Extensible_Markup_Language) : est langage par balisage qui peut servir pour stocker également des données.\n",
    " - XLSX : Format propriétaire du tableur Microsoft Excel\n",
    " \n",
    "Dans ce chapitre, **nous allons travailler uniquement sur le format CSV**. Il est simple et très utilisé."
   ]
  },
  {
   "cell_type": "markdown",
   "metadata": {},
   "source": [
    "# Importation de données avec notepad++ et excel"
   ]
  },
  {
   "cell_type": "markdown",
   "metadata": {},
   "source": [
    "Nous allons utiliser le fichier CSV ``population_finistere.csv`` qui comporte plusieurs champs :\n",
    " - Département : le numéro de département\n",
    " - Nom commune : le nome de la commune\n",
    " - Taille : l'intervalle de taille dans lequel la commune se trouve\n",
    " - Population 2006 : la population en 2006\n",
    " - Population 2011 : la population de la commune en 2011\n",
    " - Population 2016 : la population de la commune en 2016\n",
    " \n",
    " "
   ]
  },
  {
   "cell_type": "markdown",
   "metadata": {},
   "source": [
    "## lecture avec Notepad++"
   ]
  },
  {
   "cell_type": "markdown",
   "metadata": {},
   "source": [
    "\n",
    "<font color=blue>**Application :** </font>\n",
    "1. **Ouvrez** le fichier avec le l'éditeur de texte ``Notepad++``. Vous devez voir apparaitre vos données comme ci-dessous\n",
    "2. Puis **cliquez** dans le menu sur ``Encodage``, **relevez et notez ci-dessous** le nom de l'encodage sélectionné (par exemple \"Encodage en ANSI\").\n",
    "\n",
    "<img src=\"notepad.png\" alt=\"Capture du fichier CSV de naissance avec Notepad++\" title=\"Fichier CSV avec Notepad++\" width=600/>"
   ]
  },
  {
   "cell_type": "markdown",
   "metadata": {},
   "source": [
    "<font color=red>**Remarques :**</font>\n",
    "Notre fichier CSV :\n",
    " - comporte une première ligne d'entête avec le nom des champs\n",
    " - chaque enregistrement est séparée par un retour à la ligne\n",
    " - chaque valeur est séparée par \";\". Normalement les champs sont séparés par des virgules (,). Ici ce sont des points virgules (;), car il s'agit d'une variante française du csv.\n",
    " "
   ]
  },
  {
   "cell_type": "markdown",
   "metadata": {},
   "source": [
    "## manipulation des données avec Excel"
   ]
  },
  {
   "cell_type": "markdown",
   "metadata": {},
   "source": [
    "Nous allons utiliser Excel pour lire et manipuler ``population_finistere.csv``. Un tableur comme Excel permet de manipuler des données. C'est un logiciel très utilisé. Mais il n'est pas adapté pour un nombre très important de données. Nous allons voir rapidement ce qu'on peut par exemple faire avec Excel. "
   ]
  },
  {
   "cell_type": "markdown",
   "metadata": {},
   "source": [
    "### Ouverture et mise en forme du fichier \n",
    "\n",
    "**Ouvrez** le fichier ``population_finistere.csv`` avec Excel\n",
    "Vous devez voir cela :\n",
    "![title](excel1.png)\n",
    "\n",
    " \n",
    " \n",
    " "
   ]
  },
  {
   "cell_type": "markdown",
   "metadata": {},
   "source": [
    "### Traitement de données à l'aide d'Excel"
   ]
  },
  {
   "cell_type": "markdown",
   "metadata": {},
   "source": [
    "1. Calculer maintenant la population du Finistère en 2006 en faisant la somme des populations de chaque commune comme \n",
    "dans l'exemple ci-dessous : \n",
    "\n",
    "![title](excel2.png)\n",
    "\n",
    "\n",
    "De la même façon, calculer la population en 2011, et en 2016.\n",
    "Noter vos résultats sur la fiche papier.\n",
    "- population 2006 :\n",
    "- population 2011 : \n",
    "- population 2016 : \n",
    "\n",
    "2. On a aussi la \"taille des communes, qui est en fait un intervalle de population. Trier les données de façon a compter le nombre de communes dans chaque intervalle : \n",
    "\n",
    "![title](excel3.png)"
   ]
  },
  {
   "cell_type": "markdown",
   "metadata": {},
   "source": [
    "Noter les résultats sur papier. Ils vous serviront ensuite "
   ]
  },
  {
   "cell_type": "markdown",
   "metadata": {},
   "source": [
    "# Importation des données sous Python"
   ]
  },
  {
   "cell_type": "markdown",
   "metadata": {},
   "source": [
    "L'ouverture d'un fichier csv en Python s'effectue avec plusieurs paramètres :\n",
    "- le nom de fichier et son chemin\n",
    " - le chemin peut être relatif, c'est à dire qu'il cherche le fichier à partir de l'endroit où se trouve le programme\n",
    " - le chemin peut être absolu. Dans ce cas, on indique la totalité du chemin depuis la racine.\n",
    "- le type d'ouverture\n",
    " - \"r\" en lecture uniquement\n",
    " - \"w\" en écriture en pouvant écraser des données existantes, à utiliser quand on crée un nouveau fichier. \n",
    " - \"a\" en écriture en complétant à la suite des données existantes\n",
    " - il existe encore d'autre mode que vous retrouvez sur [https://docs.python.org](https://docs.python.org/fr/3/library/functions.html#open)\n",
    "- le type d'encodage : c'est à dire la manière dont sont décodés les caractères (code ASCII, utf-8, etc)...\n",
    "\n",
    "\n"
   ]
  },
  {
   "cell_type": "markdown",
   "metadata": {},
   "source": [
    "<font color=blue>**Application :** Voici l'exemple d'un code **ci-dessous**, qui permet l'ouverture d'un fichier. \n",
    "    \n",
    "- le nom du fichier est \"mix_naiss_lune.csv\"\n",
    "- le type d'ouverture en lecture \"r\"\n",
    "- et l'encodage \"utf-8-sig\"</font>\n"
   ]
  },
  {
   "cell_type": "code",
   "execution_count": 3,
   "metadata": {
    "collapsed": true
   },
   "outputs": [
    {
     "ename": "SyntaxError",
     "evalue": "unexpected EOF while parsing (<ipython-input-3-7a53b7e3ec6d>, line 2)",
     "output_type": "error",
     "traceback": [
      "\u001b[1;36m  File \u001b[1;32m\"<ipython-input-3-7a53b7e3ec6d>\"\u001b[1;36m, line \u001b[1;32m2\u001b[0m\n\u001b[1;33m    with open(\"mix_naiss_lune.csv\", \"r\", encoding = \"utf-8-sig\") as mon_fichier :\u001b[0m\n\u001b[1;37m                                                                                 ^\u001b[0m\n\u001b[1;31mSyntaxError\u001b[0m\u001b[1;31m:\u001b[0m unexpected EOF while parsing\n"
     ]
    }
   ],
   "source": [
    "#ouverture du fichier en lecture, création de la variable mon_fichier\n",
    "with open(\"mix_naiss_lune.csv\", \"r\", encoding = \"utf-8-sig\") as mon_fichier :"
   ]
  },
  {
   "cell_type": "markdown",
   "metadata": {},
   "source": [
    "A ce moment, l'objet  \"mon_fichier\" permet d'avoir accès aux données. Les données qui étaient dans le fichier sur le disque dur sont maintenant en mémoire vive, donc en accès rapide.\n",
    "On a toutes les méthodes pour lire toutes les lignes du contenu du fichier et les copier dans un objet de type leis ou de type dictionnaire. \n",
    "\n",
    "Ci-dessous un exemple de lecture de fichier, et de copie du contenu du fichier dans une liste, ou plutôt une liste de listes. \n"
   ]
  },
  {
   "cell_type": "code",
   "execution_count": 1,
   "metadata": {
    "scrolled": false
   },
   "outputs": [
    {
     "data": {
      "text/plain": [
       "[['1968', 'Janvier', '1', 'lundi', '2080', '162.8823'],\n",
       " ['1968', 'Janvier', '2', 'mardi', '2319', '150.3425'],\n",
       " ['1968', 'Janvier', '3', 'mercredi', '2335', '138.0308']]"
      ]
     },
     "execution_count": 1,
     "metadata": {},
     "output_type": "execute_result"
    }
   ],
   "source": [
    "donnees_liste = []                                                    # création d'une variable de type liste vide\n",
    "with open(\"mix_naiss_lune.csv\", \"r\", encoding = \"utf-8-sig\") as mon_fichier :    # ouverture du fichier\n",
    "    mon_fichier.readline()                                            # on lit la première ligne\n",
    "    for ligne in mon_fichier :                                        # boucle qui analyse ligne par ligne\n",
    "        valeurs = ligne.strip(\"\\n\").split(\",\")                        # split découpe en morceau une chaine de caractère                                  \n",
    "        donnees_liste.append(valeurs)                                  # ajout dans la variable \"donnees_liste\" de la liste \"entree\"\n",
    "        \n",
    "#on affiche les 3 premières lignes        \n",
    "donnees_liste[:3]               "
   ]
  },
  {
   "cell_type": "markdown",
   "metadata": {},
   "source": [
    "**Exercice 1** \n",
    "En vous inspirant du code juste au-dessus, \n",
    "- compléter la fonction lit_csv, qui prend en paramètres le nom du fichier et le mode d'encodage, lit le fichier, et renvoie une liste de liste qui contient les données du fichier. S'inspirer du code ci-dessus.\n",
    "- appeler la fonction avec le fichier mix_naiss_lune.csv, puis avec population_finistere.csv\n"
   ]
  },
  {
   "cell_type": "code",
   "execution_count": 6,
   "metadata": {},
   "outputs": [
    {
     "name": "stdout",
     "output_type": "stream",
     "text": [
      "[['29', 'Brest', '50000 ou plus', '144548', '140547', '139342'], ['29', 'Quimper', '50000 ou plus', '64902', '63235', '63405'], ['29', 'Argol', 'De 1000 à 1999', '796', '942', '1010']]\n"
     ]
    }
   ],
   "source": [
    "def lit_csv(nom_fichier, encodage, separateur = ','):\n",
    "    donnees_liste = []  #données du fichier qui seront renvoyées\n",
    "    #votre code ici \n",
    "    #en s'inspirant du code ci-dessus\n",
    "   \n",
    "  \n",
    "#appel de la fonction \n",
    "d = lit_csv(\"mix_naiss_lune.csv\", \"utf-8-sig\")\n",
    "d[:3]  #on affiche les premiers enregistrements qui contiennent les noms des champs. \n",
    "\n",
    "\n",
    "\n",
    "\n",
    "#appel de la fonction pour lire les enregistrements du fichier 'population_finistere.csv' \n",
    "#utiliser notepad pour savoir l'encodage du fichier\n",
    "#et les mettre dans un tableau donnees_finistere\n",
    "#lire les deux premiers enregistrements\n",
    "\n",
    "\n",
    "donnees_finistere = lit_csv(\"population_finistere.csv\", \"ansi\",\";\")\n",
    "print(donnees_finistere[:3])     \n",
    "    \n",
    "    "
   ]
  },
  {
   "cell_type": "markdown",
   "metadata": {},
   "source": [
    "**Exercice 2** \n",
    "Examiner le code ci-dessous, qui calcule la population du Finistère en 2006. \n"
   ]
  },
  {
   "cell_type": "code",
   "execution_count": 7,
   "metadata": {
    "scrolled": true
   },
   "outputs": [
    {
     "name": "stdout",
     "output_type": "stream",
     "text": [
      "883001\n"
     ]
    }
   ],
   "source": [
    "\n",
    "somme_2006 = 0\n",
    "for commune in donnees_finistere:\n",
    "    somme_2006 = somme_2006 + int(commune[3])\n",
    "print(somme_2006)   \n",
    "\n",
    "    "
   ]
  },
  {
   "cell_type": "markdown",
   "metadata": {},
   "source": [
    "Ecrire le code pour alculer le nombre d'habitants en 2011, 2016. Comparer avec les résultats obtenus avec Excel."
   ]
  },
  {
   "cell_type": "code",
   "execution_count": null,
   "metadata": {},
   "outputs": [],
   "source": [
    "#votre code"
   ]
  },
  {
   "cell_type": "markdown",
   "metadata": {},
   "source": [
    "# Importation de données sous forme de liste de dictionnaires"
   ]
  },
  {
   "cell_type": "markdown",
   "metadata": {},
   "source": [
    "Lors des activités précédentes, vous avez découvert le type construit dictionnaire dans lequel les éléments sont indexés (repérés) par des clés (qui sont des objets immuables du type str, float, tuple) et à chaque clé correspond une valeur. Ces clés ne sont pas ordonnées. Un dictionnaire est un tableau d’éléments auquel on peut ajouter ou retirer des éléments.\n",
    "\n",
    "Lors de cette séance, nous allons apprendre à utiliser les dictionnaires pour extraire des informations de tables."
   ]
  },
  {
   "cell_type": "markdown",
   "metadata": {},
   "source": [
    "Ci-dessous, on donne la fonction qui permet d'importer un fichier sous forme de listes de dictionnaires\n"
   ]
  },
  {
   "cell_type": "code",
   "execution_count": 8,
   "metadata": {},
   "outputs": [
    {
     "name": "stdout",
     "output_type": "stream",
     "text": [
      "[{'Département': '29', 'Nom commune': 'Brest', 'Taille': '50000 ou plus', 'Population 2006': '144548', 'Population 2011': '140547', 'Population 2016': '139342'}]\n"
     ]
    }
   ],
   "source": [
    "def lit_csv_dict(adresse, separateur = \";\", encoding = \"utf-8\") :\n",
    "    \"\"\"\n",
    "    Crée une liste de dictionnaires à partir d'un fichier csv\n",
    "    adresse est l'adresse du fichier sur le disque (string)\n",
    "    separateur est le séparateur utilisé dans le fichier csv (string) \";\" par défaut\n",
    "    encoding est l'encodage. utf-8 par défaut\n",
    "    Renvoie une liste de dictionnaires\n",
    "    \"\"\"\n",
    "    \n",
    "    tableau = []                               # Le tableau qui contiendra les dictionnaires (un par ligne)\n",
    "\n",
    "    with open(adresse, \"r\", encoding = encoding) as fichier :                        # On ouvre le fichier\n",
    "        cles = fichier.readline()                            # La première ligne contient les noms des clés\n",
    "        cles = cles[:-1].split(separateur)                   # on sépare les différentes cles\n",
    "        \n",
    "        for ligne in fichier :                               # On parcourt les lignes suivantes \n",
    "            valeurs = ligne[:-1].split(separateur)           #on sépare les différentes valeurs de la ligne\n",
    "            dico = dict()                                    # On cree un dictionnaire pour la ligne \n",
    "            # On remplit le dictionnaire de la ligne\n",
    "            for cle, valeur in zip(cles, valeurs):\n",
    "                dico[cle] = valeur\n",
    "            tableau.append(dico)                           # On rajoute ce dictionnaire au tableau\n",
    "   \n",
    "    return tableau                                   # On renvoie le tableau contenant les dictionnaires\n",
    "\n",
    "\n",
    "\n",
    "dict_finistere = lit_csv_dict(\"population_finistere.csv\", \";\", \"ANSI\")\n",
    "print(dict_finistere[:1])\n",
    "\n",
    "\n",
    "\n",
    "#creer un dictionnaire avec pour clé la taille des communes et comme valeur le nombre de communes\n",
    "\n",
    "\n",
    "\n"
   ]
  },
  {
   "cell_type": "markdown",
   "metadata": {},
   "source": [
    "**Exercice 3**\n",
    "Examiner le code suivant qui utilise la liste de dictionnaire pour calculer la population du Finistère en 2006"
   ]
  },
  {
   "cell_type": "code",
   "execution_count": null,
   "metadata": {},
   "outputs": [],
   "source": [
    "\n",
    "s = 0\n",
    "for commune in dict_finistere:\n",
    "    s = s + int(commune[\"Population 2006\"])\n",
    "print(s)    \n",
    "\n",
    "\n",
    "\n"
   ]
  },
  {
   "cell_type": "code",
   "execution_count": null,
   "metadata": {},
   "outputs": [],
   "source": [
    "#votre code ici pour 2011 et 2016"
   ]
  },
  {
   "cell_type": "markdown",
   "metadata": {},
   "source": [
    "(s il vous reste du temps)\n",
    "**Exercice 3**\n",
    "\n",
    "Créer un dictionnaire **dico_taille**, qui a pour clé les différents intervalles de taille ('50000 ou plus', etc) et pour valeur le nombre de communes de cet intervalle. \n",
    "Afficher les résultats "
   ]
  },
  {
   "cell_type": "code",
   "execution_count": 11,
   "metadata": {},
   "outputs": [
    {
     "data": {
      "text/plain": [
       "{'50000 ou plus': 2,\n",
       " 'De 1000 à 1999': 65,\n",
       " 'De 10000 à 19999': 9,\n",
       " 'De 2000 à 3499': 57,\n",
       " 'De 3500 à 4999': 26,\n",
       " 'De 500 à 999': 64,\n",
       " 'De 5000 à 9999': 25,\n",
       " 'Moins de 500': 31}"
      ]
     },
     "execution_count": 11,
     "metadata": {},
     "output_type": "execute_result"
    }
   ],
   "source": [
    "#votre code ici\n",
    "      \n"
   ]
  }
 ],
 "metadata": {
  "kernelspec": {
   "display_name": "Python 3",
   "language": "python",
   "name": "python3"
  },
  "language_info": {
   "codemirror_mode": {
    "name": "ipython",
    "version": 3
   },
   "file_extension": ".py",
   "mimetype": "text/x-python",
   "name": "python",
   "nbconvert_exporter": "python",
   "pygments_lexer": "ipython3",
   "version": "3.7.6"
  }
 },
 "nbformat": 4,
 "nbformat_minor": 4
}
