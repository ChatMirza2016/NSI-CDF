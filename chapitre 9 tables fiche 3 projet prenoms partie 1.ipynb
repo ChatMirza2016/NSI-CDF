{
 "cells": [
  {
   "cell_type": "markdown",
   "metadata": {},
   "source": [
    "<h1><center>Projet : les prénoms les plus courants<center></h1>\n",
    "    <h2><center>première partie<center></h2>    "
   ]
  },
  {
   "cell_type": "markdown",
   "metadata": {},
   "source": [
    "Le but de ce projet est de réaliser un programme qui montrera pour chaque année sélectionnée le prénom masculin / féminin le plus fréquent en France. Le fichier que l'on utilisera contient toutes les données entre 1900 et 2018 et s'appelle **nat2018.csv**.\n",
    "\n",
    "Ce ficher est en accès public et la version 2020 peut être récupéré à l'adresse : \n",
    "https://www.insee.fr/fr/statistiques/2540004\n",
    "\n",
    "Voici un exemple de résultat pour les prénoms féminins les plus courants entre 1951 et 1977. Vous pouvez vérifier dans Wikipedia les informations : \n",
    "https://fr.wikipedia.org/wiki/Liste_des_pr%C3%A9noms_les_plus_donn%C3%A9s_en_France\n",
    "\n",
    "\n",
    "Vous pourrez travailler sur le jupyter notebook ou dans edupython. \n",
    "\n",
    "**Durant tout le projet, vous remplirez le carnet de bord qui vous sera donné.**\n",
    "\n",
    "Voici l'aspect du programme final : \n"
   ]
  },
  {
   "cell_type": "markdown",
   "metadata": {},
   "source": [
    "![title](prenoms_masculins.png)"
   ]
  },
  {
   "cell_type": "markdown",
   "metadata": {},
   "source": [
    "# Analyse du problème (répondre sur papier fiche jointe)"
   ]
  },
  {
   "cell_type": "code",
   "execution_count": null,
   "metadata": {},
   "outputs": [],
   "source": [
    "La première étape sera de comprendre la structure du csv **nat2018.csv**\n",
    "**Voir la fiche papier et répondre aux questions Q1 et Q2**"
   ]
  },
  {
   "cell_type": "markdown",
   "metadata": {},
   "source": [
    "Q3 (répondre fiche) Le but du programme est de trouver, pour chaque année entre une année min et une année max, le prénom le plus courant. \n",
    "\n",
    "On partira des données \"brutes\" du fichier de départ : \n",
    "\n"
   ]
  },
  {
   "cell_type": "code",
   "execution_count": null,
   "metadata": {},
   "outputs": [],
   "source": []
  },
  {
   "cell_type": "markdown",
   "metadata": {},
   "source": [
    "L'utilisateur choisit  :\n",
    "- s'il veut les noms féminins ou masculins, \n",
    "- l'année minimale qu'il veut visualiser\n",
    "- l'année maximale qu'il veut visualiser\n",
    "\n",
    "Le programme principal devra, à partir des données de départ, et des contraintes de l'utilisateur, créer une structure du type :"
   ]
  },
  {
   "cell_type": "markdown",
   "metadata": {},
   "source": [
    "{1951: {'sexe': 'F', 'prenom': 'MARIE', 'annee': '1951', 'nombre': '25181'}, 1952: {'sexe': 'F', 'prenom': 'MARIE', 'annee': '1952', 'nombre': '25746'}, 1953: {'sexe': 'F', 'prenom': 'MARIE', 'annee': '1953', 'nombre': '22661'}, 1954: {'sexe': 'F', 'prenom': 'MARIE', 'annee': '1954', 'nombre': '23510'}, 1955: {'sexe': 'F', 'prenom': 'MARTINE', 'annee': '1955', 'nombre': '20843'}}"
   ]
  },
  {
   "cell_type": "markdown",
   "metadata": {},
   "source": [
    "**Q3** Proposer *sur papier* toutes vos idées pour obtenir le résultat final. \n",
    "- vous expliquerez de quel type est la structure finale ci-dessus (dictionnaire, liste de dictionnaire....)\n",
    "- Vous noterez notamment quelles fonctions développées dans ce chapitre pourront être réutilisées pour répondre à la question. \n",
    "- vous proposerez une solution sous forme algo ou code python. On ne demande bien sûr pas un code qui fonctionne directement, mais des idées. \n",
    "\n",
    "- Cette première partie sera corrigée pour que vous puissiez continuer. "
   ]
  },
  {
   "cell_type": "markdown",
   "metadata": {
    "scrolled": true
   },
   "source": [
    "# lecture du fichier de données et création d'une bibliotheque"
   ]
  },
  {
   "cell_type": "markdown",
   "metadata": {},
   "source": [
    "**Q4** On utilisera la fonction **lit_csv_dict** donnée dans la fiche jnb \"chapitre 9 seance 1 tables\", qui lit le fichier et le charge dans un tableau de dictionnaires.\n",
    "Pour éviter que le fichier *principal* soit trop long, on va mettre toutes les déclarations de fonctions qui sont au point et que *à priori* on ne devra pas modifier dans le fichier **bibliotheque.py**. \n",
    "\n",
    "Vous allez donc créer un fichier appelé **bibliotheque.py**  grâce à edupython dans laquelle vous mettrez le code **lit_csv_dict** dans le même répertoire que le programme principal, \n",
    "\n",
    "puis,  dans le programme principal, on ajoutera au début du programme la ligne suivante : \n"
   ]
  },
  {
   "cell_type": "code",
   "execution_count": 1,
   "metadata": {
    "collapsed": true
   },
   "outputs": [
    {
     "ename": "ModuleNotFoundError",
     "evalue": "No module named 'bibliotheque'",
     "output_type": "error",
     "traceback": [
      "\u001b[1;31m---------------------------------------------------------------------------\u001b[0m",
      "\u001b[1;31mModuleNotFoundError\u001b[0m                       Traceback (most recent call last)",
      "\u001b[1;32m<ipython-input-1-900a365a4666>\u001b[0m in \u001b[0;36m<module>\u001b[1;34m\u001b[0m\n\u001b[1;32m----> 1\u001b[1;33m \u001b[1;32mfrom\u001b[0m \u001b[0mbibliotheque\u001b[0m \u001b[1;32mimport\u001b[0m \u001b[0mlit_csv_table\u001b[0m\u001b[1;33m\u001b[0m\u001b[1;33m\u001b[0m\u001b[0m\n\u001b[0m",
      "\u001b[1;31mModuleNotFoundError\u001b[0m: No module named 'bibliotheque'"
     ]
    }
   ],
   "source": [
    "from bibliotheque import lit_csv_dict"
   ]
  },
  {
   "cell_type": "markdown",
   "metadata": {},
   "source": [
    "Tester la bibliothèque en appelant la fonction avec le fichier **nat2018.csv**."
   ]
  },
  {
   "cell_type": "code",
   "execution_count": null,
   "metadata": {},
   "outputs": [],
   "source": [
    "from bibliotheque import lit_csv_dict\n",
    "\n",
    "#appel de la fonction pour lire le fichier\n",
    "#afficher les 3 premières lignes du tableau pour vérifier que le contenu est correct"
   ]
  }
 ],
 "metadata": {
  "kernelspec": {
   "display_name": "Python 3",
   "language": "python",
   "name": "python3"
  },
  "language_info": {
   "codemirror_mode": {
    "name": "ipython",
    "version": 3
   },
   "file_extension": ".py",
   "mimetype": "text/x-python",
   "name": "python",
   "nbconvert_exporter": "python",
   "pygments_lexer": "ipython3",
   "version": "3.7.6"
  }
 },
 "nbformat": 4,
 "nbformat_minor": 4
}
