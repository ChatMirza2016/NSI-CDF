{
 "cells": [
  {
   "cell_type": "markdown",
   "metadata": {},
   "source": [
    "<h1><center>Projet : les prénoms les plus courants<center></h1>\n",
    "    <h2><center>deuxième partie<center></h2>    "
   ]
  },
  {
   "cell_type": "markdown",
   "metadata": {},
   "source": [
    "# IMPLEMENTATION DE LA RECHERCHE"
   ]
  },
  {
   "cell_type": "markdown",
   "metadata": {},
   "source": [
    "**Q5**  On veut, à partir des données du départ, contenant tous les enregistrements, qui est un tableau d'enregistrements, obtenir un nouveau dictionnaire, qui contient comme clé l'année et comme valeur le prénom le plus fréquent et sa fréquence. \n",
    "Cette valeur sera elle-même stockée sous forme de dictionnaire. \n",
    "\n",
    "Le code peut se traduire sous la forme :\n",
    "- *Entree* tableau de depart qui contient les 64000 enregistrements\n",
    "- *sortie* le dictionnaire final\n",
    "- on extrait de ce tableau que les données qui concernent le sexe choisi\n",
    "- pour chaque année de l'intervalle sélectionné\n",
    "- - on extrait les données de cette année dans un nouveau tableau de dictionnaire (tableau_annee)\n",
    "- - de ce tableau annee on recupere la ligne qui contient le prenom le plus frequent, cette ligne (ligne_max) que l'on appellera  est un dictionnaire\n",
    "- - dans le dictionnaire final , on ajoute la nouvelle paire (annee, ligne_max)"
   ]
  },
  {
   "cell_type": "code",
   "execution_count": null,
   "metadata": {},
   "outputs": [],
   "source": [
    "#importation des bibliotheques nécessaires\n",
    "\n",
    "\n",
    "def cree_dico_final(table, annee_min, annee_max):\n",
    "    #votre code ici\n",
    "    \n",
    "    \n",
    "#appel de la lecture des données\n",
    "#appel de cree_dico_final\n",
    "\n"
   ]
  },
  {
   "cell_type": "markdown",
   "metadata": {},
   "source": [
    "Pour les années entre 1951 et 1955 vous devez obtenir ce dictionnaire : \n",
    "\n",
    "{1951: {'sexe': 'F', 'prenom': 'MARIE', 'annee': '1951', 'nombre': '25181'}, 1952: {'sexe': 'F', 'prenom': 'MARIE', 'annee': '1952', 'nombre': '25746'}, 1953: {'sexe': 'F', 'prenom': 'MARIE', 'annee': '1953', 'nombre': '22661'}, 1954: {'sexe': 'F', 'prenom': 'MARIE', 'annee': '1954', 'nombre': '23510'}, 1955: {'sexe': 'F', 'prenom': 'MARTINE', 'annee': '1955', 'nombre': '20843'}}"
   ]
  },
  {
   "cell_type": "markdown",
   "metadata": {},
   "source": [
    "Remarques : \n",
    "- vous pouvez utiliser certaines fonctions déjà écrites dans les séances 1 et 2. Dans ce cas, vous les mettrez dans la \"bibliothèque\" et les importerez.\n",
    "- certaines années, le prénom le plus fréquent est : \"_PRENOMS_RARES\" . _En effet, certains prénoms très peu fréquents ne sont pas comptabilisés. Il faudra dans ce cas en tenir compte et prendre le deuxième prénom le plus courant.  \n"
   ]
  },
  {
   "cell_type": "markdown",
   "metadata": {},
   "source": [
    "# PROGRAMME FINAL"
   ]
  },
  {
   "cell_type": "markdown",
   "metadata": {},
   "source": [
    "**Q6** Il faut maintenant intégrer votre code dans l'interface final"
   ]
  },
  {
   "cell_type": "code",
   "execution_count": 1,
   "metadata": {},
   "outputs": [],
   "source": [
    "from tkinter import *\n",
    "from matplotlib.figure import Figure\n",
    "\n",
    "from matplotlib import pyplot as plt\n",
    "from matplotlib.backends.backend_tkagg import FigureCanvasTkAgg\n",
    "\n",
    "liste_annees = [i for i in range(1900,2019)]\n",
    "liste_sexe = [\"M\", \"F\"]\n",
    "\n",
    "class GUI():\n",
    "    def __init__(self):\n",
    "\n",
    "\n",
    "        # initialisation de l'interface graphique\n",
    "        self.fenetre = Tk()\n",
    "\n",
    "\n",
    "        #on définit le premier frame avec un titre\n",
    "        self.cadre1 = LabelFrame(self.fenetre,  text='Choisissez l\"année minimum')\n",
    "        self.cadre1.pack()\n",
    "\n",
    "        #options1 contient la valeur sélectionnée par l'utilisateur\n",
    "        self.options1 = StringVar(self.cadre1)\n",
    "        #on initialise options1 vide\n",
    "        self.options1.set(\"\")\n",
    "\n",
    "        self.opt1 = OptionMenu(self.cadre1, self.options1, *liste_annees)\n",
    "        self.opt1.config(width=5)\n",
    "        self.opt1.pack()\n",
    "\n",
    "        self.cadre2 = LabelFrame(self.fenetre,  text='Choisissez l\"annee maximum')\n",
    "        self.cadre2.pack()\n",
    "\n",
    "        self.options2 = StringVar(self.cadre2)\n",
    "        self.options2.set(\"\")\n",
    "\n",
    "        self.opt2 = OptionMenu(self.cadre2, self.options2, *liste_annees)\n",
    "        self.opt2.config(width=5)\n",
    "        self.opt2.pack()\n",
    "\n",
    "\n",
    "        self.cadre3 = LabelFrame(self.fenetre,  text='Choisissez le sexe')\n",
    "        self.cadre3.pack()\n",
    "\n",
    "        self.options3 = StringVar(self.cadre3)\n",
    "        self.options3.set(\"\")\n",
    "\n",
    "        self.opt3 = OptionMenu(self.cadre3, self.options3, *liste_sexe)\n",
    "        self.opt3.config(width=5)\n",
    "        self.opt3.pack()\n",
    "\n",
    "        self.plot_button = Button(master = self.fenetre, command = self.affiche_prenoms, height = 2, width = 10, text = \"Plot\")\n",
    "\n",
    "        self.plot_button.pack()\n",
    "        self.fenetre.mainloop()\n",
    "\n",
    "\n",
    "    def affiche_prenoms(self):\n",
    "        \"\"\"\n",
    "        Cette fonction affiche le dictionnaire créé par gene_dico\n",
    "        le graphique est un histogramme\n",
    "        en abscisse l'année\n",
    "        en ordonnée le nombre de personne portant le prénom le plus fréquent\n",
    "        sur la barre en commentaire le prénom le plus fréquent\n",
    "        \"\"\"\n",
    "\n",
    "\n",
    "        annee_min = self.options1.get()\n",
    "        annee_max = self.options2.get()\n",
    "        sexe      = \"F\"  #code a remplacer\n",
    "\n",
    "        if annee_min != \"\" and annee_max != \"\" and sexe != \"\":\n",
    "            annee_min = int(annee_min)\n",
    "            annee_max = int(annee_max)\n",
    "\n",
    "            #valeurs donnée ici pour que le programme tourne\n",
    "            #vous devez remplacer par vortre code, qui lit les données\n",
    "            #debut du code demo\n",
    "            annees = [1951,1952,1953,1954,1955]\n",
    "\n",
    "\n",
    "            self.dico = {1951: {'sexe': 'F', 'prenom': 'MARIE', 'annee': '1951', 'nombre': '25181'},\n",
    "                         1952: {'sexe': 'F', 'prenom': 'MARIE', 'annee': '1952', 'nombre': '25746'},\n",
    "                         1953: {'sexe': 'F', 'prenom': 'MARIE', 'annee': '1953', 'nombre': '22661'},\n",
    "                         1954: {'sexe': 'F', 'prenom': 'MARIE', 'annee': '1954', 'nombre': '23510'},\n",
    "                         1955: {'sexe': 'F', 'prenom': 'MARTINE', 'annee': '1955', 'nombre': '20843'}}\n",
    "            #fin du code demo\n",
    "\n",
    "\n",
    "            prenoms = []\n",
    "            frequences = []\n",
    "            for annee in self.dico:\n",
    "                prenom_freq = self.dico[annee]\n",
    "                prenoms.append(prenom_freq[\"prenom\"])\n",
    "                frequences.append(int(prenom_freq[\"nombre\"]))\n",
    "\n",
    "            fig = Figure(figsize = (8, 8),dpi = 100)\n",
    "\n",
    "            plot1 = fig.add_subplot(111)\n",
    "\n",
    "            plot1.bar(range(len(frequences)), frequences, width = 0.8, color = 'red')\n",
    "\n",
    "            for i in range(len(prenoms)):\n",
    "                plot1.text(i, 0, annees[i], rotation = 45)\n",
    "                plot1.text(i, frequences[i]/2, prenoms[i], rotation = 90)\n",
    "\n",
    "\n",
    "            canvas = FigureCanvasTkAgg(fig, master = self.fenetre)\n",
    "            canvas.draw()\n",
    "            canvas.get_tk_widget().pack()\n",
    "\n",
    "app = GUI()"
   ]
  },
  {
   "cell_type": "code",
   "execution_count": null,
   "metadata": {},
   "outputs": [],
   "source": []
  }
 ],
 "metadata": {
  "kernelspec": {
   "display_name": "Python 3",
   "language": "python",
   "name": "python3"
  },
  "language_info": {
   "codemirror_mode": {
    "name": "ipython",
    "version": 3
   },
   "file_extension": ".py",
   "mimetype": "text/x-python",
   "name": "python",
   "nbconvert_exporter": "python",
   "pygments_lexer": "ipython3",
   "version": "3.7.6"
  }
 },
 "nbformat": 4,
 "nbformat_minor": 4
}
