{
 "cells": [
  {
   "cell_type": "markdown",
   "metadata": {},
   "source": [
    " <center><h1>Chapitre 7 Les tables Séance n°2: opérations sur les tables CSV </h1></center>"
   ]
  },
  {
   "cell_type": "markdown",
   "metadata": {},
   "source": [
    "<font color = red>**Désormais, nos tables seront des listes de dictionnaires**</font>\n",
    "\n",
    "Lors de cette séance, vous allez apprendre comment extraire l'information d'une liste / table. \n",
    "\n",
    "1. A partir d'une table existante, comment extraire une nouvelle table avec seulement certains champs (certaines colonnes) : on appelle cela une projection\n",
    "2. Trier une liste suivant un certain critère\n",
    "3. Fusionner deux tables ayant au moins un champ commun.\n",
    "4. Extraire certains enregistrements d'une table\n"
   ]
  },
  {
   "cell_type": "markdown",
   "metadata": {},
   "source": [
    "## Projection"
   ]
  },
  {
   "cell_type": "code",
   "execution_count": 2,
   "metadata": {},
   "outputs": [],
   "source": [
    "ma_table = [{'prenom':'Antoine', 'nom':'Dupont', 'Anglais':\"10\", 'NSI':\"10\", 'Maths':\"18\"},\n",
    "            {'prenom':'Louise',  'nom':'Dupont', 'Anglais':\"17\", 'NSI':\"18\", 'Maths':\"14\"},\n",
    "            {'prenom':'Louise',  'nom':'Ampere', 'Anglais':\"17\", 'NSI':\"18\", 'Maths':\"14\"},\n",
    "            {'prenom':'Pierre',  'nom':'Zebro', 'Anglais':\"8\",   'NSI':\"4\" , 'Maths':\"20\"}]\n",
    " \n"
   ]
  },
  {
   "cell_type": "markdown",
   "metadata": {},
   "source": [
    "**Exercice 1**\n",
    "\n",
    "Proposer un script qui permette de créer une nouvelle table contenant seulement le nom, le prenom, et les notes de NSI à partir de la table ci-dessus. \n",
    "On pourra s'inspirer de l'algo suivant : \n",
    "- creer une nouvelle table vide\n",
    "- pour chaque eleve de la table de depart\n",
    "- - creer un nouveau dictionnaire vide \n",
    "- - dans ce dictionnaire ajouter seulement les cles/valeurs à selectionner\n",
    "- - ajouter le dictionnaire projeté dans la liste projetée\n",
    "    "
   ]
  },
  {
   "cell_type": "code",
   "execution_count": 4,
   "metadata": {},
   "outputs": [],
   "source": [
    "#votre code ici \n",
    "#afficher la liste projetée"
   ]
  },
  {
   "cell_type": "markdown",
   "metadata": {},
   "source": [
    "Désormais, on va utiliser la fonction projection ci-dessous, "
   ]
  },
  {
   "cell_type": "code",
   "execution_count": 4,
   "metadata": {},
   "outputs": [],
   "source": [
    "def projection(table, liste_descripteurs):\n",
    "    \"\"\"\n",
    "    paramètres d'entrée :\n",
    "        la table de dictionnaires\n",
    "        la liste de descripteurs est une liste des champs à garder\n",
    "    action : \n",
    "        crée une table \"projetée\" suivant la liste des champs retenus ['descript1', 'descript2',... ]\n",
    "    paramètre de sortie\n",
    "         la table projetée\n",
    "    \"\"\"\n",
    "    ma_liste=[]  # on déclare une nouvelle liste vide\n",
    "    for ligne in table : # on parcourt la table de dictionnaire\n",
    "        mon_dico = {} #  # on cree le nouveau dictionnaire\n",
    "        for clé in ligne :  #pour chaque clé du dictoinnaire de départ\n",
    "            if clé in liste_descripteurs :  #si la clé est dans la liste de la projection\n",
    "                mon_dico[clé] = ligne[clé]  #  on ajoute l'élement dans le nouveau dictionnaire\n",
    "        ma_liste.append(mon_dico)  # on ajoute le dictionnaire dans la nouvelle liste vide\n",
    "    return ma_liste"
   ]
  },
  {
   "cell_type": "markdown",
   "metadata": {},
   "source": [
    "   **Exercice 2** appeler la fonction ci-dessus avec *ma_table* et les descripteurs 'prenom', 'nom', 'NSI'."
   ]
  },
  {
   "cell_type": "code",
   "execution_count": 6,
   "metadata": {},
   "outputs": [],
   "source": [
    "#votre code ici"
   ]
  },
  {
   "cell_type": "markdown",
   "metadata": {},
   "source": [
    "## TRI"
   ]
  },
  {
   "cell_type": "markdown",
   "metadata": {},
   "source": [
    "Puisqu'une table est représentée par une liste, on peut la trier en utiliser la fonction de tri *sorted* qui dispose d'un argument *key* permettant de préciser selon quel critère une liste doit être triée.  \n",
    "\n",
    "Exécuter le code suivant. la liste est-elle triée par note en NSI croissante ? Quel est le problème ?"
   ]
  },
  {
   "cell_type": "code",
   "execution_count": 5,
   "metadata": {},
   "outputs": [
    {
     "name": "stdout",
     "output_type": "stream",
     "text": [
      "[{'prenom': 'Antoine', 'nom': 'Dupont', 'Anglais': '10', 'NSI': '10', 'Maths': '18'}, {'prenom': 'Louise', 'nom': 'Dupont', 'Anglais': '17', 'NSI': '18', 'Maths': '14'}, {'prenom': 'Louise', 'nom': 'Ampere', 'Anglais': '17', 'NSI': '18', 'Maths': '14'}, {'prenom': 'Pierre', 'nom': 'Zebro', 'Anglais': '8', 'NSI': '4', 'Maths': '20'}]\n"
     ]
    },
    {
     "data": {
      "text/plain": [
       "[{'prenom': 'Antoine',\n",
       "  'nom': 'Dupont',\n",
       "  'Anglais': '10',\n",
       "  'NSI': '10',\n",
       "  'Maths': '18'},\n",
       " {'prenom': 'Louise',\n",
       "  'nom': 'Dupont',\n",
       "  'Anglais': '17',\n",
       "  'NSI': '18',\n",
       "  'Maths': '14'},\n",
       " {'prenom': 'Louise',\n",
       "  'nom': 'Ampere',\n",
       "  'Anglais': '17',\n",
       "  'NSI': '18',\n",
       "  'Maths': '14'},\n",
       " {'prenom': 'Pierre',\n",
       "  'nom': 'Zebro',\n",
       "  'Anglais': '8',\n",
       "  'NSI': '4',\n",
       "  'Maths': '20'}]"
      ]
     },
     "execution_count": 5,
     "metadata": {},
     "output_type": "execute_result"
    }
   ],
   "source": [
    "def tri(table, champ, r):\n",
    "    \"\"\"\n",
    "    paramètres d'entrée : \n",
    "    - la table à trier\n",
    "    - le champ sur lequel on doit trier\n",
    "    - un boolean pour trier dans l'ordre inverse\n",
    "    paramètre de sortie\n",
    "    - la table triée\n",
    "    \"\"\"\n",
    "    \n",
    "    def critere(ligne):\n",
    "        return ligne[champ]\n",
    "    \n",
    "    ma_table_triee = sorted(table,key = critere, reverse = r)\n",
    "    return ma_table_triee\n",
    "\n",
    "\n",
    "\n",
    "\n",
    "print(ma_table)\n",
    "ma_table_triee = tri(ma_table, \"NSI\", False)\n",
    "\n",
    "ma_table_triee\n"
   ]
  },
  {
   "cell_type": "markdown",
   "metadata": {},
   "source": [
    "**Exercice 3** Trier la table *ma_table* de façon à trier les noms de famille par ordre alphabétique. "
   ]
  },
  {
   "cell_type": "code",
   "execution_count": 8,
   "metadata": {},
   "outputs": [],
   "source": [
    "#votre code ici"
   ]
  },
  {
   "cell_type": "markdown",
   "metadata": {},
   "source": [
    "## EXTRACTION DE LIGNES"
   ]
  },
  {
   "cell_type": "markdown",
   "metadata": {},
   "source": [
    "**Exercice 4** \n",
    "\n",
    "Il est possible que l'on ait besoin d'extraire certaines lignes (certains enregistrements) d'une table. Imaginons que l'on veut seulement les enregistrements des gens qui s'appellent 'Dupont'. Ecrire une fonction extrait_table(table, champ, valeur) qui renverra une table ne contenant que les enregistrements dont le champ a cette valeur. \n",
    "Par exemple, l'appel de extrait_table(ma_table, 'nom', 'Dupont') renverra :\n",
    "\n",
    "\n"
   ]
  },
  {
   "cell_type": "raw",
   "metadata": {},
   "source": [
    "[[{'prenom': 'Antoine', 'nom': 'Dupont', 'Anglais': '10', 'NSI': '10', 'Maths': '18'}, {'prenom': 'Louise', 'nom': 'Dupont', 'Anglais': '17', 'NSI': '18', 'Maths': '14'}]"
   ]
  },
  {
   "cell_type": "code",
   "execution_count": 9,
   "metadata": {
    "collapsed": true
   },
   "outputs": [
    {
     "name": "stdout",
     "output_type": "stream",
     "text": [
      "[{'prenom': 'Antoine', 'nom': 'Dupont', 'Anglais': '10', 'NSI': '10', 'Maths': '18'}, {'prenom': 'Louise', 'nom': 'Dupont', 'Anglais': '17', 'NSI': '18', 'Maths': '14'}]\n"
     ]
    }
   ],
   "source": [
    "def extrait_table(table, champ, valeur):\n",
    "    #votre code\n",
    "    \n",
    "\n",
    "print(extrait_table(ma_table, 'nom', 'Dupont'))"
   ]
  },
  {
   "cell_type": "markdown",
   "metadata": {},
   "source": [
    "## FUSION DE TABLES"
   ]
  },
  {
   "cell_type": "markdown",
   "metadata": {},
   "source": [
    "On veut fusionner deux tables ayant un attribut (ou champ) commun. On va sélectionner dans chaque table la ligne ayant la même valeur pour l'attribut commun. \n",
    "Imaginons deux tables appelées table1 et table2. Voici ce que donnera la fusion : "
   ]
  },
  {
   "cell_type": "markdown",
   "metadata": {},
   "source": [
    "![title](fusion.png)"
   ]
  },
  {
   "cell_type": "markdown",
   "metadata": {},
   "source": [
    "A partir de la description ci-dessus, écrire en python la table de dictionnaire correspondant à table 1 et table 2"
   ]
  },
  {
   "cell_type": "code",
   "execution_count": 3,
   "metadata": {},
   "outputs": [],
   "source": [
    "#votre code ici \n",
    "table1 = \n",
    "\n",
    "table2 = \n",
    "         "
   ]
  },
  {
   "cell_type": "markdown",
   "metadata": {},
   "source": [
    "Voici la fonction qui permettra de réaliser la fusion, appelée aussi jointure. \n",
    "Appeler la fonction avec les deux tables définies ci-dessus et afficher la table fusionnée.\n",
    "On ne demande pas de refaire ce code. "
   ]
  },
  {
   "cell_type": "code",
   "execution_count": 4,
   "metadata": {},
   "outputs": [
    {
     "name": "stdout",
     "output_type": "stream",
     "text": [
      "[{'Nom': 'Joe', 'Maths': '16', 'Anglais': '17', 'Info': '18', 'Age': '16', 'Courriel': 'joe@info.fr'}, {'Nom': 'Zoé', 'Maths': '19', 'Anglais': '15', 'Info': '17', 'Age': '16', 'Courriel': 'joe@info.fr'}]\n"
     ]
    }
   ],
   "source": [
    "def jointure(table1, table2, cle):\n",
    "    table_jointure = []\n",
    "    for ligne1 in table1:\n",
    "        for ligne2 in table2:\n",
    "            #si l'attribut commun a la même valeur dans les deux lignes\n",
    "            if ligne1[cle] == ligne2[cle]:\n",
    "                #on fusionne les deux lignes\n",
    "                ligne_jointure = ligne1.copy() #on recopie le contenu de la première ligne\n",
    "                #on ajoute le contenu de la deuxième\n",
    "                for champ in ligne2:\n",
    "                    if champ != cle:\n",
    "                        ligne_jointure[champ] = ligne2[champ]\n",
    "                table_jointure.append(ligne_jointure)        \n",
    "    return table_jointure\n",
    "\n",
    "\n",
    "\n",
    "                        \n",
    "                \n",
    "                \n",
    "                \n",
    "                \n",
    "                \n",
    "                \n",
    "    "
   ]
  }
 ],
 "metadata": {
  "kernelspec": {
   "display_name": "Python 3",
   "language": "python",
   "name": "python3"
  },
  "language_info": {
   "codemirror_mode": {
    "name": "ipython",
    "version": 3
   },
   "file_extension": ".py",
   "mimetype": "text/x-python",
   "name": "python",
   "nbconvert_exporter": "python",
   "pygments_lexer": "ipython3",
   "version": "3.7.6"
  }
 },
 "nbformat": 4,
 "nbformat_minor": 4
}
